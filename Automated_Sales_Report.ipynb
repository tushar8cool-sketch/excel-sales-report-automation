{
 "cells": [
  {
   "cell_type": "code",
   "execution_count": 1,
   "id": "a9cfb758-fea7-4e03-b36a-3eae96f25b3e",
   "metadata": {},
   "outputs": [
    {
     "name": "stdout",
     "output_type": "stream",
     "text": [
      "Defaulting to user installation because normal site-packages is not writeable\n",
      "Requirement already satisfied: pandas in c:\\programdata\\anaconda3\\lib\\site-packages (2.2.2)\n",
      "Requirement already satisfied: openpyxl in c:\\programdata\\anaconda3\\lib\\site-packages (3.1.2)\n",
      "Requirement already satisfied: numpy>=1.26.0 in c:\\programdata\\anaconda3\\lib\\site-packages (from pandas) (1.26.4)\n",
      "Requirement already satisfied: python-dateutil>=2.8.2 in c:\\programdata\\anaconda3\\lib\\site-packages (from pandas) (2.9.0.post0)\n",
      "Requirement already satisfied: pytz>=2020.1 in c:\\programdata\\anaconda3\\lib\\site-packages (from pandas) (2024.1)\n",
      "Requirement already satisfied: tzdata>=2022.7 in c:\\programdata\\anaconda3\\lib\\site-packages (from pandas) (2023.3)\n",
      "Requirement already satisfied: et-xmlfile in c:\\programdata\\anaconda3\\lib\\site-packages (from openpyxl) (1.1.0)\n",
      "Requirement already satisfied: six>=1.5 in c:\\programdata\\anaconda3\\lib\\site-packages (from python-dateutil>=2.8.2->pandas) (1.16.0)\n"
     ]
    }
   ],
   "source": [
    "!pip install pandas openpyxl\n"
   ]
  },
  {
   "cell_type": "code",
   "execution_count": 3,
   "id": "e14b0cc8-4885-4f85-9ae0-a36500fd47cb",
   "metadata": {},
   "outputs": [
    {
     "data": {
      "text/html": [
       "<div>\n",
       "<style scoped>\n",
       "    .dataframe tbody tr th:only-of-type {\n",
       "        vertical-align: middle;\n",
       "    }\n",
       "\n",
       "    .dataframe tbody tr th {\n",
       "        vertical-align: top;\n",
       "    }\n",
       "\n",
       "    .dataframe thead th {\n",
       "        text-align: right;\n",
       "    }\n",
       "</style>\n",
       "<table border=\"1\" class=\"dataframe\">\n",
       "  <thead>\n",
       "    <tr style=\"text-align: right;\">\n",
       "      <th></th>\n",
       "      <th>Date</th>\n",
       "      <th>Product</th>\n",
       "      <th>Amount</th>\n",
       "    </tr>\n",
       "  </thead>\n",
       "  <tbody>\n",
       "    <tr>\n",
       "      <th>0</th>\n",
       "      <td>2025-01-01</td>\n",
       "      <td>Keyboard</td>\n",
       "      <td>1500</td>\n",
       "    </tr>\n",
       "    <tr>\n",
       "      <th>1</th>\n",
       "      <td>2025-01-01</td>\n",
       "      <td>Mouse</td>\n",
       "      <td>700</td>\n",
       "    </tr>\n",
       "    <tr>\n",
       "      <th>2</th>\n",
       "      <td>2025-01-02</td>\n",
       "      <td>Monitor</td>\n",
       "      <td>12000</td>\n",
       "    </tr>\n",
       "    <tr>\n",
       "      <th>3</th>\n",
       "      <td>2025-01-02</td>\n",
       "      <td>Keyboard</td>\n",
       "      <td>1500</td>\n",
       "    </tr>\n",
       "    <tr>\n",
       "      <th>4</th>\n",
       "      <td>2025-01-03</td>\n",
       "      <td>Mouse</td>\n",
       "      <td>800</td>\n",
       "    </tr>\n",
       "    <tr>\n",
       "      <th>5</th>\n",
       "      <td>2025-01-03</td>\n",
       "      <td>Monitor</td>\n",
       "      <td>11000</td>\n",
       "    </tr>\n",
       "    <tr>\n",
       "      <th>6</th>\n",
       "      <td>2025-01-04</td>\n",
       "      <td>Keyboard</td>\n",
       "      <td>1600</td>\n",
       "    </tr>\n",
       "  </tbody>\n",
       "</table>\n",
       "</div>"
      ],
      "text/plain": [
       "         Date   Product  Amount\n",
       "0  2025-01-01  Keyboard    1500\n",
       "1  2025-01-01     Mouse     700\n",
       "2  2025-01-02   Monitor   12000\n",
       "3  2025-01-02  Keyboard    1500\n",
       "4  2025-01-03     Mouse     800\n",
       "5  2025-01-03   Monitor   11000\n",
       "6  2025-01-04  Keyboard    1600"
      ]
     },
     "execution_count": 3,
     "metadata": {},
     "output_type": "execute_result"
    }
   ],
   "source": [
    "import pandas as pd\n",
    "\n",
    "data = {\n",
    "    'Date': ['2025-01-01','2025-01-01','2025-01-02','2025-01-02','2025-01-03','2025-01-03','2025-01-04'],\n",
    "    'Product': ['Keyboard','Mouse','Monitor','Keyboard','Mouse','Monitor','Keyboard'],\n",
    "    'Amount': [1500, 700, 12000, 1500, 800, 11000, 1600]\n",
    "}\n",
    "\n",
    "df = pd.DataFrame(data)\n",
    "df.to_csv(\"sales_data.csv\", index=False)\n",
    "df\n"
   ]
  },
  {
   "cell_type": "code",
   "execution_count": 9,
   "id": "ab631f26-a33d-4d85-86fc-c2fc6bb259d6",
   "metadata": {},
   "outputs": [
    {
     "data": {
      "text/html": [
       "<div>\n",
       "<style scoped>\n",
       "    .dataframe tbody tr th:only-of-type {\n",
       "        vertical-align: middle;\n",
       "    }\n",
       "\n",
       "    .dataframe tbody tr th {\n",
       "        vertical-align: top;\n",
       "    }\n",
       "\n",
       "    .dataframe thead th {\n",
       "        text-align: right;\n",
       "    }\n",
       "</style>\n",
       "<table border=\"1\" class=\"dataframe\">\n",
       "  <thead>\n",
       "    <tr style=\"text-align: right;\">\n",
       "      <th></th>\n",
       "      <th>Product</th>\n",
       "      <th>Total Sales</th>\n",
       "    </tr>\n",
       "  </thead>\n",
       "  <tbody>\n",
       "    <tr>\n",
       "      <th>0</th>\n",
       "      <td>Keyboard</td>\n",
       "      <td>4600</td>\n",
       "    </tr>\n",
       "    <tr>\n",
       "      <th>1</th>\n",
       "      <td>Monitor</td>\n",
       "      <td>23000</td>\n",
       "    </tr>\n",
       "    <tr>\n",
       "      <th>2</th>\n",
       "      <td>Mouse</td>\n",
       "      <td>1500</td>\n",
       "    </tr>\n",
       "  </tbody>\n",
       "</table>\n",
       "</div>"
      ],
      "text/plain": [
       "    Product  Total Sales\n",
       "0  Keyboard         4600\n",
       "1   Monitor        23000\n",
       "2     Mouse         1500"
      ]
     },
     "execution_count": 9,
     "metadata": {},
     "output_type": "execute_result"
    }
   ],
   "source": [
    "\n",
    "df = pd.read_csv(\"sales_data.csv\")\n",
    "\n",
    "\n",
    "df['Date'] = pd.to_datetime(df['Date'])\n",
    "df = df.dropna()\n",
    "\n",
    "summary = df.groupby('Product', as_index=False)['Amount'].sum()\n",
    "summary.rename(columns={'Amount': 'Total Sales'}, inplace=True)\n",
    "\n",
    "output_file = \"sales_report.xlsx\"\n",
    "with pd.ExcelWriter(output_file, engine=\"openpyxl\") as writer:\n",
    "    df.to_excel(writer, sheet_name=\"Cleaned Data\", index=False)\n",
    "    summary.to_excel(writer, sheet_name=\"Summary\", index=False)\n",
    "\n",
    "summary\n"
   ]
  },
  {
   "cell_type": "code",
   "execution_count": 7,
   "id": "8fb0dde7-18e6-4964-8aca-c4652701c784",
   "metadata": {},
   "outputs": [
    {
     "name": "stdout",
     "output_type": "stream",
     "text": [
      "Report generated successfully: sales_report.xlsx\n"
     ]
    }
   ],
   "source": [
    "print(f\"Report generated successfully: {output_file}\")\n"
   ]
  },
  {
   "cell_type": "code",
   "execution_count": 1,
   "id": "1bde1a6b-1e3d-42c9-9370-90c18d1f42fa",
   "metadata": {},
   "outputs": [
    {
     "name": "stdout",
     "output_type": "stream",
     "text": [
      "Report with chart generated successfully: sales_report.xlsx\n"
     ]
    }
   ],
   "source": [
    "import pandas as pd\n",
    "from openpyxl import load_workbook\n",
    "from openpyxl.chart import BarChart, Reference\n",
    "\n",
    "# Step 1: Create sample CSV (only once, skip if already exists)\n",
    "data = {\n",
    "    'Date': ['2025-01-01','2025-01-01','2025-01-02','2025-01-02','2025-01-03','2025-01-03','2025-01-04'],\n",
    "    'Product': ['Keyboard','Mouse','Monitor','Keyboard','Mouse','Monitor','Keyboard'],\n",
    "    'Amount': [1500, 700, 12000, 1500, 800, 11000, 1600]\n",
    "}\n",
    "df = pd.DataFrame(data)\n",
    "df.to_csv(\"sales_data.csv\", index=False)\n",
    "\n",
    "# Step 2: Read CSV and clean data\n",
    "df = pd.read_csv(\"sales_data.csv\")\n",
    "df['Date'] = pd.to_datetime(df['Date'])\n",
    "df = df.dropna()\n",
    "\n",
    "# Step 3: Create summary\n",
    "summary = df.groupby('Product', as_index=False)['Amount'].sum()\n",
    "summary.rename(columns={'Amount': 'Total Sales'}, inplace=True)\n",
    "\n",
    "# Step 4: Save cleaned data + summary to Excel\n",
    "output_file = \"sales_report.xlsx\"\n",
    "with pd.ExcelWriter(output_file, engine=\"openpyxl\") as writer:\n",
    "    df.to_excel(writer, sheet_name=\"Cleaned Data\", index=False)\n",
    "    summary.to_excel(writer, sheet_name=\"Summary\", index=False)\n",
    "\n",
    "# Step 5: Add Bar Chart to Summary sheet\n",
    "wb = load_workbook(output_file)\n",
    "ws = wb[\"Summary\"]\n",
    "\n",
    "# Define chart data range (B2:B4 for products, C2:C4 for totals)\n",
    "chart = BarChart()\n",
    "chart.title = \"Total Sales by Product\"\n",
    "chart.x_axis.title = \"Product\"\n",
    "chart.y_axis.title = \"Sales Amount\"\n",
    "\n",
    "data_range = Reference(ws, min_col=2, min_row=1, max_col=2, max_row=ws.max_row)\n",
    "cats = Reference(ws, min_col=1, min_row=2, max_row=ws.max_row)\n",
    "\n",
    "chart.add_data(data_range, titles_from_data=True)\n",
    "chart.set_categories(cats)\n",
    "\n",
    "# Add chart to sheet\n",
    "ws.add_chart(chart, \"E2\")\n",
    "\n",
    "# Save final report\n",
    "wb.save(output_file)\n",
    "\n",
    "print(f\"Report with chart generated successfully: {output_file}\")\n"
   ]
  },
  {
   "cell_type": "code",
   "execution_count": null,
   "id": "571381c4-f5fe-4973-bc94-f6af57965540",
   "metadata": {},
   "outputs": [],
   "source": []
  }
 ],
 "metadata": {
  "kernelspec": {
   "display_name": "Python 3 (ipykernel)",
   "language": "python",
   "name": "python3"
  },
  "language_info": {
   "codemirror_mode": {
    "name": "ipython",
    "version": 3
   },
   "file_extension": ".py",
   "mimetype": "text/x-python",
   "name": "python",
   "nbconvert_exporter": "python",
   "pygments_lexer": "ipython3",
   "version": "3.12.4"
  }
 },
 "nbformat": 4,
 "nbformat_minor": 5
}
